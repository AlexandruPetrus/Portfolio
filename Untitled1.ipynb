{
  "nbformat": 4,
  "nbformat_minor": 0,
  "metadata": {
    "colab": {
      "provenance": [],
      "authorship_tag": "ABX9TyMcibnAVCwuMXuCPmJ4ZZVm",
      "include_colab_link": true
    },
    "kernelspec": {
      "name": "python3",
      "display_name": "Python 3"
    },
    "language_info": {
      "name": "python"
    }
  },
  "cells": [
    {
      "cell_type": "markdown",
      "metadata": {
        "id": "view-in-github",
        "colab_type": "text"
      },
      "source": [
        "<a href=\"https://colab.research.google.com/github/AlexandruPetrus/Portfolio/blob/main/Untitled1.ipynb\" target=\"_parent\"><img src=\"https://colab.research.google.com/assets/colab-badge.svg\" alt=\"Open In Colab\"/></a>"
      ]
    },
    {
      "cell_type": "code",
      "execution_count": null,
      "metadata": {
        "id": "Pp3NHrWSCFxZ"
      },
      "outputs": [],
      "source": [
        "# import librairies\n",
        "import pandas as pd\n",
        "import numpy as np\n",
        "import statsmodels.api as sm\n",
        "import seaborn as sns\n",
        "import matplotlib.pyplot as plt\n",
        "%matplotlib inline\n",
        "\n",
        "import plotly.express as px\n",
        "import plotly.graph_objects as go\n",
        "\n",
        "import datetime as dt\n",
        "\n",
        "from sklearn.model_selection import train_test_split\n",
        "from sklearn.preprocessing import RobustScaler\n",
        "\n",
        "from sklearn.metrics import classification_report\n",
        "from sklearn.metrics import confusion_matrix\n",
        "from sklearn.ensemble import RandomForestClassifier\n",
        "from sklearn.model_selection import GridSearchCV\n",
        "\n",
        "from imblearn.over_sampling import RandomOverSampler\n",
        "from sklearn.preprocessing import LabelEncoder\n",
        "from sklearn.impute import SimpleImputer"
      ]
    },
    {
      "cell_type": "code",
      "source": [
        "from google.colab import drive\n",
        "drive.mount('/content/drive')"
      ],
      "metadata": {
        "id": "9Qz_Z95cw6r7",
        "colab": {
          "base_uri": "https://localhost:8080/"
        },
        "outputId": "8e5d04c8-7192-41b3-a4f5-74cfba0d7916"
      },
      "execution_count": null,
      "outputs": [
        {
          "output_type": "stream",
          "name": "stdout",
          "text": [
            "Mounted at /content/drive\n"
          ]
        }
      ]
    },
    {
      "cell_type": "code",
      "source": [
        "path = '/content/drive/MyDrive/hrd.csv'"
      ],
      "metadata": {
        "id": "JV1UBXytCnA9"
      },
      "execution_count": null,
      "outputs": []
    },
    {
      "cell_type": "code",
      "source": [
        "hr = pd.read_csv('/content/drive/MyDrive/hrd.csv')"
      ],
      "metadata": {
        "id": "3pbD_E3SC6sn"
      },
      "execution_count": null,
      "outputs": []
    },
    {
      "cell_type": "code",
      "source": [
        "print('le nombre de doublon est de : ',hr.duplicated().sum())"
      ],
      "metadata": {
        "colab": {
          "base_uri": "https://localhost:8080/"
        },
        "id": "C3fQ2ZbpDAyA",
        "outputId": "d023f0ed-673c-4f68-85ab-1d69e0da3750"
      },
      "execution_count": null,
      "outputs": [
        {
          "output_type": "stream",
          "name": "stdout",
          "text": [
            "le nombre de doublon est de :  0\n"
          ]
        }
      ]
    },
    {
      "cell_type": "code",
      "source": [
        "hr.isna().sum()"
      ],
      "metadata": {
        "colab": {
          "base_uri": "https://localhost:8080/"
        },
        "id": "bJQpOXMhGTcX",
        "outputId": "16430cfc-244b-497b-ab0c-274bc20c3d53"
      },
      "execution_count": null,
      "outputs": [
        {
          "output_type": "execute_result",
          "data": {
            "text/plain": [
              "Employee_Name                 0\n",
              "EmpID                         0\n",
              "MarriedID                     0\n",
              "MaritalStatusID               0\n",
              "GenderID                      0\n",
              "EmpStatusID                   0\n",
              "DeptID                        0\n",
              "PerfScoreID                   0\n",
              "FromDiversityJobFairID        0\n",
              "Salary                        0\n",
              "Termd                         0\n",
              "PositionID                    0\n",
              "Position                      0\n",
              "State                         0\n",
              "Zip                           0\n",
              "DOB                           0\n",
              "Sex                           0\n",
              "MaritalDesc                   0\n",
              "CitizenDesc                   0\n",
              "HispanicLatino                0\n",
              "RaceDesc                      0\n",
              "DateofHire                    0\n",
              "DateofTermination             0\n",
              "TermReason                    0\n",
              "EmploymentStatus              0\n",
              "Department                    0\n",
              "ManagerName                   0\n",
              "ManagerID                     0\n",
              "RecruitmentSource             0\n",
              "PerformanceScore              0\n",
              "EngagementSurvey              0\n",
              "EmpSatisfaction               0\n",
              "SpecialProjectsCount          0\n",
              "LastPerformanceReview_Date    0\n",
              "DaysLateLast30                0\n",
              "Absences                      0\n",
              "dtype: int64"
            ]
          },
          "metadata": {},
          "execution_count": 28
        }
      ]
    },
    {
      "cell_type": "code",
      "source": [
        "# retrait des NaN pour les variables de temps discovery_time, cont_date, cont_time\n",
        "fires_model = hr.dropna(subset=['TermReason']).reset_index(drop=True)"
      ],
      "metadata": {
        "id": "nFIfKG4ZHwLw"
      },
      "execution_count": null,
      "outputs": []
    },
    {
      "cell_type": "code",
      "source": [
        "# separation des variables explicatives et cible\n",
        "X = fires_model.drop('TermReason', axis=1)\n",
        "# affichage\n",
        "display(X.info())"
      ],
      "metadata": {
        "colab": {
          "base_uri": "https://localhost:8080/",
          "height": 763
        },
        "id": "H2NCQySAH-ZG",
        "outputId": "968b86c3-0212-4ce3-b59e-8f990a835c3c"
      },
      "execution_count": null,
      "outputs": [
        {
          "output_type": "stream",
          "name": "stdout",
          "text": [
            "<class 'pandas.core.frame.DataFrame'>\n",
            "RangeIndex: 311 entries, 0 to 310\n",
            "Data columns (total 35 columns):\n",
            " #   Column                      Non-Null Count  Dtype  \n",
            "---  ------                      --------------  -----  \n",
            " 0   Employee_Name               311 non-null    float64\n",
            " 1   EmpID                       311 non-null    float64\n",
            " 2   MarriedID                   311 non-null    float64\n",
            " 3   MaritalStatusID             311 non-null    float64\n",
            " 4   GenderID                    311 non-null    float64\n",
            " 5   EmpStatusID                 311 non-null    float64\n",
            " 6   DeptID                      311 non-null    float64\n",
            " 7   PerfScoreID                 311 non-null    float64\n",
            " 8   FromDiversityJobFairID      311 non-null    float64\n",
            " 9   Salary                      311 non-null    float64\n",
            " 10  Termd                       311 non-null    float64\n",
            " 11  PositionID                  311 non-null    float64\n",
            " 12  Position                    311 non-null    float64\n",
            " 13  State                       311 non-null    float64\n",
            " 14  Zip                         311 non-null    float64\n",
            " 15  DOB                         311 non-null    float64\n",
            " 16  Sex                         311 non-null    float64\n",
            " 17  MaritalDesc                 311 non-null    float64\n",
            " 18  CitizenDesc                 311 non-null    float64\n",
            " 19  HispanicLatino              311 non-null    float64\n",
            " 20  RaceDesc                    311 non-null    float64\n",
            " 21  DateofHire                  311 non-null    float64\n",
            " 22  DateofTermination           311 non-null    float64\n",
            " 23  EmploymentStatus            311 non-null    float64\n",
            " 24  Department                  311 non-null    float64\n",
            " 25  ManagerName                 311 non-null    float64\n",
            " 26  ManagerID                   311 non-null    float64\n",
            " 27  RecruitmentSource           311 non-null    float64\n",
            " 28  PerformanceScore            311 non-null    float64\n",
            " 29  EngagementSurvey            311 non-null    float64\n",
            " 30  EmpSatisfaction             311 non-null    float64\n",
            " 31  SpecialProjectsCount        311 non-null    float64\n",
            " 32  LastPerformanceReview_Date  311 non-null    float64\n",
            " 33  DaysLateLast30              311 non-null    float64\n",
            " 34  Absences                    311 non-null    float64\n",
            "dtypes: float64(35)\n",
            "memory usage: 85.2 KB\n"
          ]
        },
        {
          "output_type": "display_data",
          "data": {
            "text/plain": [
              "None"
            ]
          },
          "metadata": {}
        }
      ]
    },
    {
      "cell_type": "code",
      "source": [
        "# Handling Missing Values\n",
        "imputer = SimpleImputer(strategy='mean')  # or strategy='median' or 'most_frequent'\n",
        "hr_numeric = hr.select_dtypes(include=['int64', 'float64'])\n",
        "hr[hr_numeric.columns] = imputer.fit_transform(hr_numeric)"
      ],
      "metadata": {
        "id": "qb6Yb1-XGoFp"
      },
      "execution_count": null,
      "outputs": []
    },
    {
      "cell_type": "code",
      "source": [
        "label_encoders = {}\n",
        "for column in hr.select_dtypes(include=['object']).columns:\n",
        "    label_encoders[column] = LabelEncoder()\n",
        "    hr[column] = label_encoders[column].fit_transform(hr[column])"
      ],
      "metadata": {
        "id": "2YFSKiDyFWQb"
      },
      "execution_count": null,
      "outputs": []
    },
    {
      "cell_type": "code",
      "source": [
        "X = fires_model.drop('TermReason', axis=1)\n",
        "y = hr['TermReason']"
      ],
      "metadata": {
        "id": "cUyv2Z3jFj6L"
      },
      "execution_count": null,
      "outputs": []
    },
    {
      "cell_type": "code",
      "source": [
        "# Split data into training and test sets\n",
        "X_train, X_test, y_train, y_test = train_test_split(X, y, test_size=0.2, random_state=42)"
      ],
      "metadata": {
        "id": "4qfngaDVFwsX"
      },
      "execution_count": null,
      "outputs": []
    },
    {
      "cell_type": "code",
      "source": [
        "# Train a Random Forest Classifier\n",
        "model = RandomForestClassifier(random_state=42)\n",
        "model.fit(X_train, y_train)"
      ],
      "metadata": {
        "colab": {
          "base_uri": "https://localhost:8080/",
          "height": 75
        },
        "id": "HRsN4PfAF0GI",
        "outputId": "9ca52cd0-9d13-4285-cbf1-25c71390f442"
      },
      "execution_count": null,
      "outputs": [
        {
          "output_type": "execute_result",
          "data": {
            "text/plain": [
              "RandomForestClassifier(random_state=42)"
            ],
            "text/html": [
              "<style>#sk-container-id-1 {color: black;background-color: white;}#sk-container-id-1 pre{padding: 0;}#sk-container-id-1 div.sk-toggleable {background-color: white;}#sk-container-id-1 label.sk-toggleable__label {cursor: pointer;display: block;width: 100%;margin-bottom: 0;padding: 0.3em;box-sizing: border-box;text-align: center;}#sk-container-id-1 label.sk-toggleable__label-arrow:before {content: \"▸\";float: left;margin-right: 0.25em;color: #696969;}#sk-container-id-1 label.sk-toggleable__label-arrow:hover:before {color: black;}#sk-container-id-1 div.sk-estimator:hover label.sk-toggleable__label-arrow:before {color: black;}#sk-container-id-1 div.sk-toggleable__content {max-height: 0;max-width: 0;overflow: hidden;text-align: left;background-color: #f0f8ff;}#sk-container-id-1 div.sk-toggleable__content pre {margin: 0.2em;color: black;border-radius: 0.25em;background-color: #f0f8ff;}#sk-container-id-1 input.sk-toggleable__control:checked~div.sk-toggleable__content {max-height: 200px;max-width: 100%;overflow: auto;}#sk-container-id-1 input.sk-toggleable__control:checked~label.sk-toggleable__label-arrow:before {content: \"▾\";}#sk-container-id-1 div.sk-estimator input.sk-toggleable__control:checked~label.sk-toggleable__label {background-color: #d4ebff;}#sk-container-id-1 div.sk-label input.sk-toggleable__control:checked~label.sk-toggleable__label {background-color: #d4ebff;}#sk-container-id-1 input.sk-hidden--visually {border: 0;clip: rect(1px 1px 1px 1px);clip: rect(1px, 1px, 1px, 1px);height: 1px;margin: -1px;overflow: hidden;padding: 0;position: absolute;width: 1px;}#sk-container-id-1 div.sk-estimator {font-family: monospace;background-color: #f0f8ff;border: 1px dotted black;border-radius: 0.25em;box-sizing: border-box;margin-bottom: 0.5em;}#sk-container-id-1 div.sk-estimator:hover {background-color: #d4ebff;}#sk-container-id-1 div.sk-parallel-item::after {content: \"\";width: 100%;border-bottom: 1px solid gray;flex-grow: 1;}#sk-container-id-1 div.sk-label:hover label.sk-toggleable__label {background-color: #d4ebff;}#sk-container-id-1 div.sk-serial::before {content: \"\";position: absolute;border-left: 1px solid gray;box-sizing: border-box;top: 0;bottom: 0;left: 50%;z-index: 0;}#sk-container-id-1 div.sk-serial {display: flex;flex-direction: column;align-items: center;background-color: white;padding-right: 0.2em;padding-left: 0.2em;position: relative;}#sk-container-id-1 div.sk-item {position: relative;z-index: 1;}#sk-container-id-1 div.sk-parallel {display: flex;align-items: stretch;justify-content: center;background-color: white;position: relative;}#sk-container-id-1 div.sk-item::before, #sk-container-id-1 div.sk-parallel-item::before {content: \"\";position: absolute;border-left: 1px solid gray;box-sizing: border-box;top: 0;bottom: 0;left: 50%;z-index: -1;}#sk-container-id-1 div.sk-parallel-item {display: flex;flex-direction: column;z-index: 1;position: relative;background-color: white;}#sk-container-id-1 div.sk-parallel-item:first-child::after {align-self: flex-end;width: 50%;}#sk-container-id-1 div.sk-parallel-item:last-child::after {align-self: flex-start;width: 50%;}#sk-container-id-1 div.sk-parallel-item:only-child::after {width: 0;}#sk-container-id-1 div.sk-dashed-wrapped {border: 1px dashed gray;margin: 0 0.4em 0.5em 0.4em;box-sizing: border-box;padding-bottom: 0.4em;background-color: white;}#sk-container-id-1 div.sk-label label {font-family: monospace;font-weight: bold;display: inline-block;line-height: 1.2em;}#sk-container-id-1 div.sk-label-container {text-align: center;}#sk-container-id-1 div.sk-container {/* jupyter's `normalize.less` sets `[hidden] { display: none; }` but bootstrap.min.css set `[hidden] { display: none !important; }` so we also need the `!important` here to be able to override the default hidden behavior on the sphinx rendered scikit-learn.org. See: https://github.com/scikit-learn/scikit-learn/issues/21755 */display: inline-block !important;position: relative;}#sk-container-id-1 div.sk-text-repr-fallback {display: none;}</style><div id=\"sk-container-id-1\" class=\"sk-top-container\"><div class=\"sk-text-repr-fallback\"><pre>RandomForestClassifier(random_state=42)</pre><b>In a Jupyter environment, please rerun this cell to show the HTML representation or trust the notebook. <br />On GitHub, the HTML representation is unable to render, please try loading this page with nbviewer.org.</b></div><div class=\"sk-container\" hidden><div class=\"sk-item\"><div class=\"sk-estimator sk-toggleable\"><input class=\"sk-toggleable__control sk-hidden--visually\" id=\"sk-estimator-id-1\" type=\"checkbox\" checked><label for=\"sk-estimator-id-1\" class=\"sk-toggleable__label sk-toggleable__label-arrow\">RandomForestClassifier</label><div class=\"sk-toggleable__content\"><pre>RandomForestClassifier(random_state=42)</pre></div></div></div></div></div>"
            ]
          },
          "metadata": {},
          "execution_count": 44
        }
      ]
    },
    {
      "cell_type": "code",
      "source": [
        "# Evaluate model\n",
        "y_pred = model.predict(X_test)\n",
        "print(classification_report(y_test, y_pred))"
      ],
      "metadata": {
        "id": "KtvGAxK9JeeK",
        "outputId": "2a9130d1-2305-45e0-95c3-734678024044",
        "colab": {
          "base_uri": "https://localhost:8080/"
        }
      },
      "execution_count": null,
      "outputs": [
        {
          "output_type": "stream",
          "name": "stdout",
          "text": [
            "              precision    recall  f1-score   support\n",
            "\n",
            "         0.0       0.08      0.25      0.12         4\n",
            "         2.0       0.00      0.00      0.00         1\n",
            "         3.0       1.00      1.00      1.00        41\n",
            "         4.0       0.00      0.00      0.00         2\n",
            "         5.0       0.00      0.00      0.00         2\n",
            "         7.0       0.00      0.00      0.00         2\n",
            "         8.0       0.00      0.00      0.00         0\n",
            "        11.0       0.00      0.00      0.00         1\n",
            "        12.0       0.00      0.00      0.00         1\n",
            "        13.0       0.00      0.00      0.00         0\n",
            "        14.0       0.00      0.00      0.00         2\n",
            "        16.0       0.00      0.00      0.00         2\n",
            "        17.0       0.00      0.00      0.00         5\n",
            "\n",
            "    accuracy                           0.67        63\n",
            "   macro avg       0.08      0.10      0.09        63\n",
            "weighted avg       0.66      0.67      0.66        63\n",
            "\n"
          ]
        },
        {
          "output_type": "stream",
          "name": "stderr",
          "text": [
            "/usr/local/lib/python3.10/dist-packages/sklearn/metrics/_classification.py:1344: UndefinedMetricWarning: Precision and F-score are ill-defined and being set to 0.0 in labels with no predicted samples. Use `zero_division` parameter to control this behavior.\n",
            "  _warn_prf(average, modifier, msg_start, len(result))\n",
            "/usr/local/lib/python3.10/dist-packages/sklearn/metrics/_classification.py:1344: UndefinedMetricWarning: Recall and F-score are ill-defined and being set to 0.0 in labels with no true samples. Use `zero_division` parameter to control this behavior.\n",
            "  _warn_prf(average, modifier, msg_start, len(result))\n",
            "/usr/local/lib/python3.10/dist-packages/sklearn/metrics/_classification.py:1344: UndefinedMetricWarning: Precision and F-score are ill-defined and being set to 0.0 in labels with no predicted samples. Use `zero_division` parameter to control this behavior.\n",
            "  _warn_prf(average, modifier, msg_start, len(result))\n",
            "/usr/local/lib/python3.10/dist-packages/sklearn/metrics/_classification.py:1344: UndefinedMetricWarning: Recall and F-score are ill-defined and being set to 0.0 in labels with no true samples. Use `zero_division` parameter to control this behavior.\n",
            "  _warn_prf(average, modifier, msg_start, len(result))\n",
            "/usr/local/lib/python3.10/dist-packages/sklearn/metrics/_classification.py:1344: UndefinedMetricWarning: Precision and F-score are ill-defined and being set to 0.0 in labels with no predicted samples. Use `zero_division` parameter to control this behavior.\n",
            "  _warn_prf(average, modifier, msg_start, len(result))\n",
            "/usr/local/lib/python3.10/dist-packages/sklearn/metrics/_classification.py:1344: UndefinedMetricWarning: Recall and F-score are ill-defined and being set to 0.0 in labels with no true samples. Use `zero_division` parameter to control this behavior.\n",
            "  _warn_prf(average, modifier, msg_start, len(result))\n"
          ]
        }
      ]
    }
  ]
}